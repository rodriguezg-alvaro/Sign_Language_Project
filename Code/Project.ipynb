{
 "cells": [
  {
   "cell_type": "markdown",
   "id": "04cd447e",
   "metadata": {},
   "source": [
    "# Sign Language Translator"
   ]
  },
  {
   "cell_type": "markdown",
   "id": "b6a7baa9",
   "metadata": {},
   "source": [
    "## Importamos las librerias"
   ]
  },
  {
   "cell_type": "code",
   "execution_count": 1,
   "id": "159df773",
   "metadata": {},
   "outputs": [],
   "source": [
    "import tensorflow as tf\n",
    "from tensorflow import keras\n",
    "from tensorflow.keras import datasets, layers, models, preprocessing\n",
    "from tensorflow.keras.preprocessing import image_dataset_from_directory\n",
    "from tensorflow.keras.preprocessing.image import ImageDataGenerator\n",
    "import pandas as pd \n",
    "import numpy as np\n",
    "import matplotlib.pyplot as plt\n",
    "import matplotlib.image as mpimg\n",
    "import cv2\n",
    "import os"
   ]
  },
  {
   "cell_type": "markdown",
   "id": "8c73c6e2",
   "metadata": {},
   "source": [
    "## Importamos los datos"
   ]
  },
  {
   "cell_type": "markdown",
   "id": "34312722",
   "metadata": {},
   "source": [
    "Reescalamos los datos para normalizarlos"
   ]
  },
  {
   "cell_type": "code",
   "execution_count": 2,
   "id": "386cbbe3",
   "metadata": {},
   "outputs": [],
   "source": [
    "gen = ImageDataGenerator(rescale = 1/255)"
   ]
  },
  {
   "cell_type": "markdown",
   "id": "e300cd32",
   "metadata": {},
   "source": [
    "Ahora cargamos los datos usando flow_from_directory() para que ademas pille las categorias de las imagenes."
   ]
  },
  {
   "cell_type": "code",
   "execution_count": 3,
   "id": "a33bc7c1",
   "metadata": {},
   "outputs": [
    {
     "name": "stdout",
     "output_type": "stream",
     "text": [
      "Found 1420 images belonging to 24 classes.\n",
      "Found 368 images belonging to 24 classes.\n"
     ]
    }
   ],
   "source": [
    "train = gen.flow_from_directory('../Data/Train', color_mode='rgb', batch_size=32, class_mode='categorical', target_size = (480,720))\n",
    "test = gen.flow_from_directory('../Data/Test', color_mode='rgb', batch_size=32, class_mode='categorical', target_size = (480,720))"
   ]
  },
  {
   "cell_type": "markdown",
   "id": "315e0c7a",
   "metadata": {},
   "source": [
    "## Creamos el primer modelo"
   ]
  },
  {
   "cell_type": "code",
   "execution_count": 6,
   "id": "07612b33",
   "metadata": {},
   "outputs": [],
   "source": [
    "model = models.Sequential()\n",
    "model.add(layers.Conv2D(8,(4,4),activation='relu',input_shape=(480, 720, 3)))\n",
    "model.add(layers.MaxPooling2D((5,5)))\n",
    "model.add(layers.Conv2D(8,(4,4),activation='relu'))\n",
    "model.add(layers.MaxPooling2D((5,5)))\n",
    "model.add(layers.Flatten())\n",
    "model.add(layers.Dense(6, activation='relu'))\n",
    "model.add(layers.Dense(24, activation='softmax'))"
   ]
  },
  {
   "cell_type": "code",
   "execution_count": 7,
   "id": "a5065518",
   "metadata": {},
   "outputs": [
    {
     "name": "stdout",
     "output_type": "stream",
     "text": [
      "Model: \"sequential_1\"\n",
      "_________________________________________________________________\n",
      " Layer (type)                Output Shape              Param #   \n",
      "=================================================================\n",
      " conv2d_2 (Conv2D)           (None, 477, 717, 8)       392       \n",
      "                                                                 \n",
      " max_pooling2d_2 (MaxPooling  (None, 95, 143, 8)       0         \n",
      " 2D)                                                             \n",
      "                                                                 \n",
      " conv2d_3 (Conv2D)           (None, 92, 140, 8)        1032      \n",
      "                                                                 \n",
      " max_pooling2d_3 (MaxPooling  (None, 18, 28, 8)        0         \n",
      " 2D)                                                             \n",
      "                                                                 \n",
      " flatten_1 (Flatten)         (None, 4032)              0         \n",
      "                                                                 \n",
      " dense_2 (Dense)             (None, 6)                 24198     \n",
      "                                                                 \n",
      " dense_3 (Dense)             (None, 24)                168       \n",
      "                                                                 \n",
      "=================================================================\n",
      "Total params: 25,790\n",
      "Trainable params: 25,790\n",
      "Non-trainable params: 0\n",
      "_________________________________________________________________\n"
     ]
    }
   ],
   "source": [
    "model.summary()"
   ]
  },
  {
   "cell_type": "code",
   "execution_count": 9,
   "id": "8cc29af5",
   "metadata": {},
   "outputs": [],
   "source": [
    "model.compile(optimizer='adam', loss='categorical_crossentropy', metrics=['accuracy'])"
   ]
  },
  {
   "cell_type": "code",
   "execution_count": 10,
   "id": "8c43a3af",
   "metadata": {},
   "outputs": [
    {
     "name": "stdout",
     "output_type": "stream",
     "text": [
      "Epoch 1/15\n",
      "45/45 [==============================] - 118s 3s/step - loss: 3.1172 - accuracy: 0.0887 - val_loss: 3.0501 - val_accuracy: 0.0924\n",
      "Epoch 2/15\n",
      "45/45 [==============================] - 114s 3s/step - loss: 2.8106 - accuracy: 0.1972 - val_loss: 2.9184 - val_accuracy: 0.1359\n",
      "Epoch 3/15\n",
      "45/45 [==============================] - 115s 3s/step - loss: 2.4550 - accuracy: 0.2768 - val_loss: 2.6312 - val_accuracy: 0.2527\n",
      "Epoch 4/15\n",
      "45/45 [==============================] - 111s 2s/step - loss: 2.2328 - accuracy: 0.3246 - val_loss: 2.5977 - val_accuracy: 0.2011\n",
      "Epoch 5/15\n",
      "45/45 [==============================] - 136s 3s/step - loss: 2.0648 - accuracy: 0.3746 - val_loss: 2.5791 - val_accuracy: 0.2582\n",
      "Epoch 6/15\n",
      "45/45 [==============================] - 127s 3s/step - loss: 1.8955 - accuracy: 0.4148 - val_loss: 2.5770 - val_accuracy: 0.2663\n",
      "Epoch 7/15\n",
      "45/45 [==============================] - 112s 2s/step - loss: 1.7575 - accuracy: 0.4606 - val_loss: 2.5670 - val_accuracy: 0.2609\n",
      "Epoch 8/15\n",
      "45/45 [==============================] - 118s 3s/step - loss: 1.6591 - accuracy: 0.4937 - val_loss: 2.6466 - val_accuracy: 0.2717\n",
      "Epoch 9/15\n",
      "45/45 [==============================] - 121s 3s/step - loss: 1.5309 - accuracy: 0.5127 - val_loss: 2.6713 - val_accuracy: 0.2962\n",
      "Epoch 10/15\n",
      "45/45 [==============================] - 116s 3s/step - loss: 1.4412 - accuracy: 0.5268 - val_loss: 2.6185 - val_accuracy: 0.2799\n",
      "Epoch 11/15\n",
      "45/45 [==============================] - 116s 3s/step - loss: 1.3664 - accuracy: 0.5507 - val_loss: 2.6750 - val_accuracy: 0.2772\n",
      "Epoch 12/15\n",
      "45/45 [==============================] - 116s 3s/step - loss: 1.2830 - accuracy: 0.5627 - val_loss: 2.8096 - val_accuracy: 0.2717\n",
      "Epoch 13/15\n",
      "45/45 [==============================] - 119s 3s/step - loss: 1.1744 - accuracy: 0.6042 - val_loss: 2.8405 - val_accuracy: 0.2908\n",
      "Epoch 14/15\n",
      "45/45 [==============================] - 129s 3s/step - loss: 1.2017 - accuracy: 0.5880 - val_loss: 2.7246 - val_accuracy: 0.2989\n",
      "Epoch 15/15\n",
      "45/45 [==============================] - 141s 3s/step - loss: 1.0493 - accuracy: 0.6451 - val_loss: 3.0134 - val_accuracy: 0.3207\n"
     ]
    }
   ],
   "source": [
    "history_final = model.fit(train, epochs = 15,batch_size = 128,validation_data=test)"
   ]
  },
  {
   "cell_type": "code",
   "execution_count": 14,
   "id": "da004d49",
   "metadata": {},
   "outputs": [
    {
     "data": {
      "image/png": "[encoded data removed]",
      "text/plain": [
       "<Figure size 432x288 with 2 Axes>"
      ]
     },
     "metadata": {
      "needs_background": "light"
     },
     "output_type": "display_data"
    }
   ],
   "source": [
    "f, axarr = plt.subplots(nrows=1,ncols=2)\n",
    "plt.sca(axarr[0]); \n",
    "plt.plot(history_final.history['accuracy'])\n",
    "plt.plot(history_final.history['val_accuracy'])\n",
    "plt.title('model accuracy with model')\n",
    "plt.xlabel('epoch')\n",
    "plt.ylabel('accuracy')\n",
    "plt.legend\n",
    "plt.sca(axarr[1]); \n",
    "plt.plot(history_final.history['loss'])\n",
    "plt.plot(history_final.history['val_loss'])\n",
    "plt.title('model loss with model')\n",
    "plt.xlabel('epoch')\n",
    "plt.ylabel('loss')\n",
    "plt.show()"
   ]
  }
 ],
 "metadata": {
  "kernelspec": {
   "display_name": "Python 3 (ipykernel)",
   "language": "python",
   "name": "python3"
  },
  "language_info": {
   "codemirror_mode": {
    "name": "ipython",
    "version": 3
   },
   "file_extension": ".py",
   "mimetype": "text/x-python",
   "name": "python",
   "nbconvert_exporter": "python",
   "pygments_lexer": "ipython3",
   "version": "3.8.8"
  }
 },
 "nbformat": 4,
 "nbformat_minor": 5
}
