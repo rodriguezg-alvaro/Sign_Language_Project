{
 "cells": [
  {
   "cell_type": "markdown",
   "id": "04cd447e",
   "metadata": {},
   "source": [
    "# Sign Language Translator"
   ]
  },
  {
   "cell_type": "markdown",
   "id": "b6a7baa9",
   "metadata": {},
   "source": [
    "## Importamos las librerias"
   ]
  },
  {
   "cell_type": "code",
   "execution_count": null,
   "id": "159df773",
   "metadata": {},
   "outputs": [],
   "source": [
    "import tensorflow as tf\n",
    "from tensorflow import keras\n",
    "from tensorflow.keras import datasets, layers, models, preprocessing\n",
    "from tensorflow.keras.preprocessing import image_dataset_from_directory\n",
    "from tensorflow.keras.preprocessing.image import ImageDataGenerator\n",
    "import pandas as pd \n",
    "import numpy as np\n",
    "import matplotlib.pyplot as plt\n",
    "import matplotlib.image as mpimg\n",
    "import cv2\n",
    "import os"
   ]
  },
  {
   "cell_type": "markdown",
   "id": "8c73c6e2",
   "metadata": {},
   "source": [
    "## Importamos los datos"
   ]
  },
  {
   "cell_type": "markdown",
   "id": "34312722",
   "metadata": {},
   "source": [
    "Reescalamos los datos para normalizarlos"
   ]
  },
  {
   "cell_type": "code",
   "execution_count": null,
   "id": "386cbbe3",
   "metadata": {},
   "outputs": [],
   "source": [
    "gen = ImageDataGenerator(rescale = 1/255)"
   ]
  },
  {
   "cell_type": "markdown",
   "id": "e300cd32",
   "metadata": {},
   "source": [
    "Ahora cargamos los datos usando flow_from_directory() para que ademas pille las categorias de las imagenes."
   ]
  },
  {
   "cell_type": "code",
   "execution_count": null,
   "id": "a33bc7c1",
   "metadata": {},
   "outputs": [],
   "source": [
    "train = gen.flow_from_directory('../Data/Train', color_mode='rgb', batch_size=32, class_mode='categorical', target_size = (480,720))\n",
    "test = gen.flow_from_directory('../Data/Test', color_mode='rgb', batch_size=32, class_mode='categorical', target_size = (480,720))"
   ]
  },
  {
   "cell_type": "markdown",
   "id": "315e0c7a",
   "metadata": {},
   "source": [
    "## Creamos el primer modelo"
   ]
  },
  {
   "cell_type": "code",
   "execution_count": null,
   "id": "07612b33",
   "metadata": {},
   "outputs": [],
   "source": [
    "model = models.Sequential()\n",
    "model.add(layers.Conv2D(16,(3,3),activation='relu',input_shape=(480, 720, 3)))\n",
    "model.add(layers.MaxPooling2D((2,2)))\n",
    "model.add(layers.Conv2D(32,(5,5),activation='relu'))\n",
    "model.add(layers.Flatten())\n",
    "model.add(layers.Dense(5, activation='relu'))\n",
    "model.add(layers.Dense(24, activation='softmax'))"
   ]
  },
  {
   "cell_type": "code",
   "execution_count": null,
   "id": "a5065518",
   "metadata": {},
   "outputs": [],
   "source": [
    "model.summary()"
   ]
  },
  {
   "cell_type": "code",
   "execution_count": null,
   "id": "8cc29af5",
   "metadata": {},
   "outputs": [],
   "source": [
    "model.compile(optimizer='adam', loss='categorical_crossentropy', metrics=['accuracy'])"
   ]
  },
  {
   "cell_type": "code",
   "execution_count": null,
   "id": "8c43a3af",
   "metadata": {},
   "outputs": [],
   "source": [
    "history_final = model.fit(train, epochs = 10,batch_size = 16,validation_data=test)"
   ]
  },
  {
   "cell_type": "code",
   "execution_count": null,
   "id": "da004d49",
   "metadata": {},
   "outputs": [],
   "source": [
    "f, axarr = plt.subplots(nrows=1,ncols=2)\n",
    "plt.sca(axarr[0]); \n",
    "plt.plot(history_final.history['accuracy'])\n",
    "plt.plot(history_final.history['val_accuracy'])\n",
    "plt.title('model accuracy with model')\n",
    "plt.xlabel('epoch')\n",
    "plt.ylabel('accuracy')\n",
    "plt.sca(axarr[1]); \n",
    "plt.plot(history_final.history['loss'])\n",
    "plt.plot(history_final.history['val_loss'])\n",
    "plt.title('model loss with model')\n",
    "plt.xlabel('epoch')\n",
    "plt.ylabel('loss')\n",
    "plt.show()"
   ]
  },
  {
   "cell_type": "code",
   "execution_count": null,
   "id": "e85e91c2",
   "metadata": {},
   "outputs": [],
   "source": []
  }
 ],
 "metadata": {
  "kernelspec": {
   "display_name": "Python 3 (ipykernel)",
   "language": "python",
   "name": "python3"
  },
  "language_info": {
   "codemirror_mode": {
    "name": "ipython",
    "version": 3
   },
   "file_extension": ".py",
   "mimetype": "text/x-python",
   "name": "python",
   "nbconvert_exporter": "python",
   "pygments_lexer": "ipython3",
   "version": "3.8.8"
  }
 },
 "nbformat": 4,
 "nbformat_minor": 5
}
