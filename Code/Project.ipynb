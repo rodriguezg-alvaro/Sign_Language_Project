{
 "cells": [
  {
   "cell_type": "markdown",
   "id": "04cd447e",
   "metadata": {},
   "source": [
    "# Sign Language Translator"
   ]
  },
  {
   "cell_type": "markdown",
   "id": "b6a7baa9",
   "metadata": {},
   "source": [
    "## Importamos las librerias"
   ]
  },
  {
   "cell_type": "code",
   "execution_count": 1,
   "id": "159df773",
   "metadata": {},
   "outputs": [],
   "source": [
    "import tensorflow as tf\n",
    "from tensorflow import keras\n",
    "from tensorflow.keras import datasets, layers, models, preprocessing, callbacks\n",
    "from tensorflow.keras.preprocessing import image_dataset_from_directory\n",
    "from tensorflow.keras.preprocessing.image import ImageDataGenerator\n",
    "from tensorflow.keras.applications import VGG16\n",
    "from tensorflow.keras.layers import Dropout, BatchNormalization\n",
    "from tensorflow.keras.callbacks import EarlyStopping\n",
    "import pandas as pd \n",
    "import numpy as np\n",
    "import matplotlib.pyplot as plt\n",
    "import matplotlib.image as mpimg\n",
    "import cv2\n",
    "import os"
   ]
  },
  {
   "cell_type": "markdown",
   "id": "8c73c6e2",
   "metadata": {},
   "source": [
    "## Importamos los datos"
   ]
  },
  {
   "cell_type": "markdown",
   "id": "34312722",
   "metadata": {},
   "source": [
    "Reescalamos los datos para normalizarlos"
   ]
  },
  {
   "cell_type": "code",
   "execution_count": 83,
   "id": "386cbbe3",
   "metadata": {},
   "outputs": [],
   "source": [
    "gen = ImageDataGenerator(rescale=1/255)"
   ]
  },
  {
   "cell_type": "markdown",
   "id": "e300cd32",
   "metadata": {},
   "source": [
    "Ahora cargamos los datos usando flow_from_directory() para que ademas pille las categorias de las imagenes."
   ]
  },
  {
   "cell_type": "code",
   "execution_count": 84,
   "id": "a33bc7c1",
   "metadata": {},
   "outputs": [
    {
     "name": "stdout",
     "output_type": "stream",
     "text": [
      "Found 1420 images belonging to 24 classes.\n",
      "Found 368 images belonging to 24 classes.\n"
     ]
    }
   ],
   "source": [
    "train = gen.flow_from_directory('../Data/Train', color_mode='rgb', batch_size=32, class_mode='categorical', target_size = (480,720))\n",
    "test = gen.flow_from_directory('../Data/Test', color_mode='rgb', batch_size=32, class_mode='categorical', target_size = (480,720))"
   ]
  },
  {
   "cell_type": "markdown",
   "id": "315e0c7a",
   "metadata": {},
   "source": [
    "## Creamos el primer modelo"
   ]
  },
  {
   "cell_type": "code",
   "execution_count": 85,
   "id": "07612b33",
   "metadata": {},
   "outputs": [],
   "source": [
    "model = models.Sequential()\n",
    "model.add(layers.Conv2D(8,(4,4),activation='relu',input_shape=(480, 720, 3)))\n",
    "model.add(layers.MaxPooling2D((5,5)))\n",
    "model.add(layers.Conv2D(8,(4,4),activation='relu'))\n",
    "model.add(layers.MaxPooling2D((5,5)))\n",
    "model.add(layers.Flatten())\n",
    "model.add(layers.Dense(6, activation='relu'))\n",
    "model.add(layers.Dense(24, activation='softmax'))"
   ]
  },
  {
   "cell_type": "code",
   "execution_count": 86,
   "id": "a5065518",
   "metadata": {},
   "outputs": [
    {
     "name": "stdout",
     "output_type": "stream",
     "text": [
      "Model: \"sequential_19\"\n",
      "_________________________________________________________________\n",
      " Layer (type)                Output Shape              Param #   \n",
      "=================================================================\n",
      " conv2d_38 (Conv2D)          (None, 477, 717, 8)       392       \n",
      "                                                                 \n",
      " max_pooling2d_38 (MaxPoolin  (None, 95, 143, 8)       0         \n",
      " g2D)                                                            \n",
      "                                                                 \n",
      " conv2d_39 (Conv2D)          (None, 92, 140, 8)        1032      \n",
      "                                                                 \n",
      " max_pooling2d_39 (MaxPoolin  (None, 18, 28, 8)        0         \n",
      " g2D)                                                            \n",
      "                                                                 \n",
      " flatten_19 (Flatten)        (None, 4032)              0         \n",
      "                                                                 \n",
      " dense_38 (Dense)            (None, 6)                 24198     \n",
      "                                                                 \n",
      " dense_39 (Dense)            (None, 24)                168       \n",
      "                                                                 \n",
      "=================================================================\n",
      "Total params: 25,790\n",
      "Trainable params: 25,790\n",
      "Non-trainable params: 0\n",
      "_________________________________________________________________\n"
     ]
    }
   ],
   "source": [
    "model.summary()"
   ]
  },
  {
   "cell_type": "code",
   "execution_count": 87,
   "id": "8cc29af5",
   "metadata": {},
   "outputs": [],
   "source": [
    "model.compile(optimizer='adam', loss='categorical_crossentropy', metrics=['accuracy'])"
   ]
  },
  {
   "cell_type": "code",
   "execution_count": null,
   "id": "8c43a3af",
   "metadata": {},
   "outputs": [
    {
     "name": "stdout",
     "output_type": "stream",
     "text": [
      "Epoch 1/10\n",
      "45/45 [==============================] - 114s 2s/step - loss: 3.1842 - accuracy: 0.0817 - val_loss: 3.1747 - val_accuracy: 0.0842\n",
      "Epoch 2/10\n",
      "45/45 [==============================] - 105s 2s/step - loss: 3.1731 - accuracy: 0.0873 - val_loss: 3.1716 - val_accuracy: 0.0842\n",
      "Epoch 3/10\n",
      "45/45 [==============================] - 119s 3s/step - loss: 3.1698 - accuracy: 0.0873 - val_loss: 3.1687 - val_accuracy: 0.0842\n",
      "Epoch 4/10\n",
      "45/45 [==============================] - 110s 2s/step - loss: 3.1669 - accuracy: 0.0873 - val_loss: 3.1660 - val_accuracy: 0.0842\n",
      "Epoch 5/10\n",
      "45/45 [==============================] - 107s 2s/step - loss: 3.1640 - accuracy: 0.0873 - val_loss: 3.1634 - val_accuracy: 0.0842\n",
      "Epoch 6/10\n",
      "45/45 [==============================] - 112s 2s/step - loss: 3.1613 - accuracy: 0.0873 - val_loss: 3.1610 - val_accuracy: 0.0842\n",
      "Epoch 7/10\n",
      "45/45 [==============================] - 109s 2s/step - loss: 3.1589 - accuracy: 0.0873 - val_loss: 3.1589 - val_accuracy: 0.0842\n",
      "Epoch 8/10\n",
      "45/45 [==============================] - 109s 2s/step - loss: 3.1578 - accuracy: 0.0951 - val_loss: 3.1569 - val_accuracy: 0.0842\n",
      "Epoch 9/10\n",
      "45/45 [==============================] - 133s 3s/step - loss: 3.1543 - accuracy: 0.0873 - val_loss: 3.1552 - val_accuracy: 0.0842\n",
      "Epoch 10/10\n",
      "41/45 [==========================>...] - ETA: 9s - loss: 3.1510 - accuracy: 0.0898 "
     ]
    }
   ],
   "source": [
    "history_final = model.fit(train, epochs = 10,batch_size = 16,validation_data=test)"
   ]
  },
  {
   "cell_type": "code",
   "execution_count": 8,
   "id": "da004d49",
   "metadata": {},
   "outputs": [
    {
     "data": {
      "image/png": "[encoded data removed]",
      "text/plain": [
       "<Figure size 432x288 with 2 Axes>"
      ]
     },
     "metadata": {
      "needs_background": "light"
     },
     "output_type": "display_data"
    }
   ],
   "source": [
    "f, axarr = plt.subplots(nrows=1,ncols=2)\n",
    "plt.sca(axarr[0]); \n",
    "plt.plot(history_final.history['accuracy'])\n",
    "plt.plot(history_final.history['val_accuracy'])\n",
    "plt.title('model accuracy with model')\n",
    "plt.xlabel('epoch')\n",
    "plt.ylabel('accuracy')\n",
    "plt.legend\n",
    "plt.sca(axarr[1]); \n",
    "plt.plot(history_final.history['loss'])\n",
    "plt.plot(history_final.history['val_loss'])\n",
    "plt.title('model loss with model')\n",
    "plt.xlabel('epoch')\n",
    "plt.ylabel('loss')\n",
    "plt.show()"
   ]
  },
  {
   "cell_type": "markdown",
   "id": "d05d8146",
   "metadata": {},
   "source": [
    "# Modelo con VGG16"
   ]
  },
  {
   "cell_type": "code",
   "execution_count": 9,
   "id": "218997b0",
   "metadata": {},
   "outputs": [
    {
     "name": "stdout",
     "output_type": "stream",
     "text": [
      "Downloading data from https://storage.googleapis.com/tensorflow/keras-applications/vgg16/vgg16_weights_tf_dim_ordering_tf_kernels_notop.h5\n",
      "58892288/58889256 [==============================] - 5s 0us/step\n",
      "58900480/58889256 [==============================] - 5s 0us/step\n",
      "Model: \"vgg16\"\n",
      "_________________________________________________________________\n",
      " Layer (type)                Output Shape              Param #   \n",
      "=================================================================\n",
      " input_1 (InputLayer)        [(None, 480, 720, 3)]     0         \n",
      "                                                                 \n",
      " block1_conv1 (Conv2D)       (None, 480, 720, 64)      1792      \n",
      "                                                                 \n",
      " block1_conv2 (Conv2D)       (None, 480, 720, 64)      36928     \n",
      "                                                                 \n",
      " block1_pool (MaxPooling2D)  (None, 240, 360, 64)      0         \n",
      "                                                                 \n",
      " block2_conv1 (Conv2D)       (None, 240, 360, 128)     73856     \n",
      "                                                                 \n",
      " block2_conv2 (Conv2D)       (None, 240, 360, 128)     147584    \n",
      "                                                                 \n",
      " block2_pool (MaxPooling2D)  (None, 120, 180, 128)     0         \n",
      "                                                                 \n",
      " block3_conv1 (Conv2D)       (None, 120, 180, 256)     295168    \n",
      "                                                                 \n",
      " block3_conv2 (Conv2D)       (None, 120, 180, 256)     590080    \n",
      "                                                                 \n",
      " block3_conv3 (Conv2D)       (None, 120, 180, 256)     590080    \n",
      "                                                                 \n",
      " block3_pool (MaxPooling2D)  (None, 60, 90, 256)       0         \n",
      "                                                                 \n",
      " block4_conv1 (Conv2D)       (None, 60, 90, 512)       1180160   \n",
      "                                                                 \n",
      " block4_conv2 (Conv2D)       (None, 60, 90, 512)       2359808   \n",
      "                                                                 \n",
      " block4_conv3 (Conv2D)       (None, 60, 90, 512)       2359808   \n",
      "                                                                 \n",
      " block4_pool (MaxPooling2D)  (None, 30, 45, 512)       0         \n",
      "                                                                 \n",
      " block5_conv1 (Conv2D)       (None, 30, 45, 512)       2359808   \n",
      "                                                                 \n",
      " block5_conv2 (Conv2D)       (None, 30, 45, 512)       2359808   \n",
      "                                                                 \n",
      " block5_conv3 (Conv2D)       (None, 30, 45, 512)       2359808   \n",
      "                                                                 \n",
      " block5_pool (MaxPooling2D)  (None, 15, 22, 512)       0         \n",
      "                                                                 \n",
      "=================================================================\n",
      "Total params: 14,714,688\n",
      "Trainable params: 14,714,688\n",
      "Non-trainable params: 0\n",
      "_________________________________________________________________\n"
     ]
    }
   ],
   "source": [
    "#generamos la red neuronal, haciendo el uso del transfern learning, con la VGG16\n",
    "VGG16_model = VGG16(input_shape = (480, 720, 3),\n",
    "                    include_top = False, weights = 'imagenet')\n",
    "VGG16_model.summary()"
   ]
  },
  {
   "cell_type": "code",
   "execution_count": 10,
   "id": "e87519fc",
   "metadata": {},
   "outputs": [],
   "source": [
    "#Congelamos las capas de base convolucional con el fin de evitar que sus pesos sean actualizados\n",
    "#durante el entrenamiento\n",
    "for i in VGG16_model.layers:\n",
    "    layers.trainable = False"
   ]
  },
  {
   "cell_type": "code",
   "execution_count": 11,
   "id": "3557638a",
   "metadata": {},
   "outputs": [
    {
     "name": "stdout",
     "output_type": "stream",
     "text": [
      "Model: \"sequential_1\"\n",
      "_________________________________________________________________\n",
      " Layer (type)                Output Shape              Param #   \n",
      "=================================================================\n",
      " vgg16 (Functional)          (None, 15, 22, 512)       14714688  \n",
      "                                                                 \n",
      " flatten_1 (Flatten)         (None, 168960)            0         \n",
      "                                                                 \n",
      " dense_2 (Dense)             (None, 64)                10813504  \n",
      "                                                                 \n",
      " dense_3 (Dense)             (None, 24)                1560      \n",
      "                                                                 \n",
      "=================================================================\n",
      "Total params: 25,529,752\n",
      "Trainable params: 25,529,752\n",
      "Non-trainable params: 0\n",
      "_________________________________________________________________\n"
     ]
    }
   ],
   "source": [
    "#Ahora creamos nuestro modelo con VGG16\n",
    "tfVGG16_model = keras.Sequential([\n",
    "    VGG16_model,\n",
    "    layers.Flatten(),\n",
    "    layers.Dense(64, activation='relu'),\n",
    "    layers.Dense(24, activation = 'softmax'),\n",
    "])\n",
    "tfVGG16_model.summary()"
   ]
  },
  {
   "cell_type": "code",
   "execution_count": 12,
   "id": "5c317a67",
   "metadata": {},
   "outputs": [],
   "source": [
    "tfVGG16_model.compile(optimizer='adam', loss= 'categorical_crossentropy', metrics=['accuracy'])"
   ]
  },
  {
   "cell_type": "code",
   "execution_count": 13,
   "id": "a72bb282",
   "metadata": {},
   "outputs": [],
   "source": [
    "early_stopping = callbacks.EarlyStopping(\n",
    "    min_delta=0.001, \n",
    "    patience=2, \n",
    "    restore_best_weights=True,\n",
    ")"
   ]
  },
  {
   "cell_type": "code",
   "execution_count": null,
   "id": "367ad934",
   "metadata": {},
   "outputs": [
    {
     "name": "stdout",
     "output_type": "stream",
     "text": [
      "Epoch 1/15\n"
     ]
    }
   ],
   "source": [
    "#Entrenamos nuestras redes neuronales\n",
    "history_final = tfVGG16_model.fit(train, epochs = 15,batch_size = 16,callbacks=[early_stopping],\n",
    "                         validation_data=test)"
   ]
  },
  {
   "cell_type": "markdown",
   "id": "5f62ae4a",
   "metadata": {},
   "source": [
    "# Modelo Reduciendo Categorias"
   ]
  },
  {
   "cell_type": "code",
   "execution_count": 15,
   "id": "fa69bca7",
   "metadata": {},
   "outputs": [],
   "source": [
    "gen = ImageDataGenerator(rescale=1/255)"
   ]
  },
  {
   "cell_type": "code",
   "execution_count": 16,
   "id": "c4bb8160",
   "metadata": {},
   "outputs": [
    {
     "name": "stdout",
     "output_type": "stream",
     "text": [
      "Found 346 images belonging to 5 classes.\n",
      "Found 88 images belonging to 5 classes.\n"
     ]
    }
   ],
   "source": [
    "train_voc = gen.flow_from_directory('../Data_Voc/Train', color_mode='rgb', batch_size=32, class_mode='categorical', target_size = (480,720))\n",
    "test_voc = gen.flow_from_directory('../Data_Voc/Test', color_mode='rgb', batch_size=32, class_mode='categorical', target_size = (480,720))"
   ]
  },
  {
   "cell_type": "code",
   "execution_count": 17,
   "id": "9174d348",
   "metadata": {},
   "outputs": [],
   "source": [
    "model = models.Sequential()\n",
    "model.add(layers.Conv2D(8,(4,4),activation='relu',input_shape=(480, 720, 3)))\n",
    "model.add(layers.MaxPooling2D((5,5)))\n",
    "model.add(layers.Conv2D(8,(4,4),activation='relu'))\n",
    "model.add(layers.MaxPooling2D((5,5)))\n",
    "#model.add(Dropout(0.3))\n",
    "model.add(layers.Flatten())\n",
    "model.add(layers.Dense(6, activation='relu'))\n",
    "model.add(layers.Dense(5, activation='softmax'))"
   ]
  },
  {
   "cell_type": "code",
   "execution_count": 18,
   "id": "d72f9523",
   "metadata": {},
   "outputs": [
    {
     "name": "stdout",
     "output_type": "stream",
     "text": [
      "Model: \"sequential_3\"\n",
      "_________________________________________________________________\n",
      " Layer (type)                Output Shape              Param #   \n",
      "=================================================================\n",
      " conv2d_6 (Conv2D)           (None, 477, 717, 8)       392       \n",
      "                                                                 \n",
      " max_pooling2d_6 (MaxPooling  (None, 95, 143, 8)       0         \n",
      " 2D)                                                             \n",
      "                                                                 \n",
      " conv2d_7 (Conv2D)           (None, 92, 140, 8)        1032      \n",
      "                                                                 \n",
      " max_pooling2d_7 (MaxPooling  (None, 18, 28, 8)        0         \n",
      " 2D)                                                             \n",
      "                                                                 \n",
      " flatten_3 (Flatten)         (None, 4032)              0         \n",
      "                                                                 \n",
      " dense_6 (Dense)             (None, 6)                 24198     \n",
      "                                                                 \n",
      " dense_7 (Dense)             (None, 5)                 35        \n",
      "                                                                 \n",
      "=================================================================\n",
      "Total params: 25,657\n",
      "Trainable params: 25,657\n",
      "Non-trainable params: 0\n",
      "_________________________________________________________________\n"
     ]
    }
   ],
   "source": [
    "model.summary()"
   ]
  },
  {
   "cell_type": "code",
   "execution_count": 20,
   "id": "29c8120a",
   "metadata": {},
   "outputs": [],
   "source": [
    "model.compile(optimizer='adam', loss='categorical_crossentropy', metrics=['accuracy'])"
   ]
  },
  {
   "cell_type": "code",
   "execution_count": 21,
   "id": "fd47015b",
   "metadata": {},
   "outputs": [
    {
     "name": "stdout",
     "output_type": "stream",
     "text": [
      "Epoch 1/5\n",
      "11/11 [==============================] - 29s 3s/step - loss: 1.6185 - accuracy: 0.2775 - val_loss: 1.6068 - val_accuracy: 0.3523\n",
      "Epoch 2/5\n",
      "11/11 [==============================] - 28s 2s/step - loss: 1.6054 - accuracy: 0.3584 - val_loss: 1.6042 - val_accuracy: 0.3523\n",
      "Epoch 3/5\n",
      "11/11 [==============================] - 27s 2s/step - loss: 1.6029 - accuracy: 0.3584 - val_loss: 1.6017 - val_accuracy: 0.3523\n",
      "Epoch 4/5\n",
      "11/11 [==============================] - 27s 2s/step - loss: 1.6001 - accuracy: 0.3584 - val_loss: 1.5995 - val_accuracy: 0.3523\n",
      "Epoch 5/5\n",
      "11/11 [==============================] - 28s 3s/step - loss: 1.5978 - accuracy: 0.3584 - val_loss: 1.5973 - val_accuracy: 0.3523\n"
     ]
    }
   ],
   "source": [
    "history_final = model.fit(train_voc, epochs = 5,batch_size = 16,validation_data=test_voc)"
   ]
  },
  {
   "cell_type": "markdown",
   "id": "f41dd942",
   "metadata": {},
   "source": [
    "# Modelo con 2 clases"
   ]
  },
  {
   "cell_type": "code",
   "execution_count": 68,
   "id": "26a2a5ad",
   "metadata": {},
   "outputs": [],
   "source": [
    "gen = ImageDataGenerator(rescale=1/255)"
   ]
  },
  {
   "cell_type": "code",
   "execution_count": 69,
   "id": "a9291eac",
   "metadata": {},
   "outputs": [
    {
     "name": "stdout",
     "output_type": "stream",
     "text": [
      "Found 230 images belonging to 2 classes.\n",
      "Found 58 images belonging to 2 classes.\n"
     ]
    }
   ],
   "source": [
    "train_bi = gen.flow_from_directory('../Data_Bi/Train', color_mode='rgb', batch_size=32, class_mode='categorical', target_size = (480,720))\n",
    "test_bi = gen.flow_from_directory('../Data_Bi/Test', color_mode='rgb', batch_size=32, class_mode='categorical', target_size = (480,720))"
   ]
  },
  {
   "cell_type": "code",
   "execution_count": 70,
   "id": "8eeb18b4",
   "metadata": {},
   "outputs": [],
   "source": [
    "model = models.Sequential()\n",
    "model.add(layers.Conv2D(4,(3,3),activation='relu',input_shape=(480, 720, 3)))\n",
    "model.add(layers.MaxPooling2D((6,6)))\n",
    "model.add(layers.Conv2D(6,(3,3),activation='relu'))\n",
    "model.add(layers.MaxPooling2D((6,6)))\n",
    "#model.add(Dropout(0.3))\n",
    "model.add(layers.Flatten())\n",
    "model.add(layers.Dense(5, activation='relu'))\n",
    "model.add(layers.Dense(2, activation='sigmoid'))"
   ]
  },
  {
   "cell_type": "code",
   "execution_count": 71,
   "id": "5c100526",
   "metadata": {},
   "outputs": [
    {
     "name": "stdout",
     "output_type": "stream",
     "text": [
      "Model: \"sequential_16\"\n",
      "_________________________________________________________________\n",
      " Layer (type)                Output Shape              Param #   \n",
      "=================================================================\n",
      " conv2d_32 (Conv2D)          (None, 478, 718, 4)       112       \n",
      "                                                                 \n",
      " max_pooling2d_32 (MaxPoolin  (None, 79, 119, 4)       0         \n",
      " g2D)                                                            \n",
      "                                                                 \n",
      " conv2d_33 (Conv2D)          (None, 77, 117, 6)        222       \n",
      "                                                                 \n",
      " max_pooling2d_33 (MaxPoolin  (None, 12, 19, 6)        0         \n",
      " g2D)                                                            \n",
      "                                                                 \n",
      " flatten_16 (Flatten)        (None, 1368)              0         \n",
      "                                                                 \n",
      " dense_32 (Dense)            (None, 5)                 6845      \n",
      "                                                                 \n",
      " dense_33 (Dense)            (None, 2)                 12        \n",
      "                                                                 \n",
      "=================================================================\n",
      "Total params: 7,191\n",
      "Trainable params: 7,191\n",
      "Non-trainable params: 0\n",
      "_________________________________________________________________\n"
     ]
    }
   ],
   "source": [
    "model.summary()"
   ]
  },
  {
   "cell_type": "code",
   "execution_count": 72,
   "id": "1032a2b8",
   "metadata": {},
   "outputs": [],
   "source": [
    "model.compile(optimizer='adam', loss='binary_crossentropy', metrics=['accuracy'])"
   ]
  },
  {
   "cell_type": "code",
   "execution_count": 75,
   "id": "8a964908",
   "metadata": {},
   "outputs": [
    {
     "name": "stdout",
     "output_type": "stream",
     "text": [
      "Epoch 1/15\n",
      "8/8 [==============================] - 13s 2s/step - loss: 0.6278 - accuracy: 0.7565 - val_loss: 0.6383 - val_accuracy: 0.5345\n",
      "Epoch 2/15\n",
      "8/8 [==============================] - 12s 1s/step - loss: 0.6138 - accuracy: 0.7087 - val_loss: 0.6407 - val_accuracy: 0.5172\n",
      "Epoch 3/15\n",
      "8/8 [==============================] - 12s 2s/step - loss: 0.5972 - accuracy: 0.7435 - val_loss: 0.6224 - val_accuracy: 0.5172\n",
      "Epoch 4/15\n",
      "8/8 [==============================] - 12s 1s/step - loss: 0.5771 - accuracy: 0.7609 - val_loss: 0.6164 - val_accuracy: 0.5172\n",
      "Epoch 5/15\n",
      "8/8 [==============================] - 13s 2s/step - loss: 0.5635 - accuracy: 0.8043 - val_loss: 0.5905 - val_accuracy: 0.5517\n",
      "Epoch 6/15\n",
      "8/8 [==============================] - 13s 2s/step - loss: 0.5466 - accuracy: 0.8478 - val_loss: 0.6122 - val_accuracy: 0.5517\n",
      "Epoch 7/15\n",
      "8/8 [==============================] - 12s 2s/step - loss: 0.5328 - accuracy: 0.8391 - val_loss: 0.5876 - val_accuracy: 0.5690\n",
      "Epoch 8/15\n",
      "8/8 [==============================] - 13s 2s/step - loss: 0.5208 - accuracy: 0.8565 - val_loss: 0.5563 - val_accuracy: 0.6552\n",
      "Epoch 9/15\n",
      "8/8 [==============================] - 13s 2s/step - loss: 0.5013 - accuracy: 0.9130 - val_loss: 0.5962 - val_accuracy: 0.5517\n",
      "Epoch 10/15\n",
      "8/8 [==============================] - 12s 2s/step - loss: 0.4880 - accuracy: 0.8696 - val_loss: 0.5412 - val_accuracy: 0.7586\n",
      "Epoch 11/15\n",
      "8/8 [==============================] - 12s 2s/step - loss: 0.4835 - accuracy: 0.9000 - val_loss: 0.5224 - val_accuracy: 0.8448\n",
      "Epoch 12/15\n",
      "8/8 [==============================] - 13s 2s/step - loss: 0.4622 - accuracy: 0.9087 - val_loss: 0.5636 - val_accuracy: 0.6379\n",
      "Epoch 13/15\n",
      "8/8 [==============================] - 13s 2s/step - loss: 0.4439 - accuracy: 0.9261 - val_loss: 0.5566 - val_accuracy: 0.6552\n",
      "Epoch 14/15\n",
      "8/8 [==============================] - 12s 2s/step - loss: 0.4292 - accuracy: 0.9522 - val_loss: 0.5404 - val_accuracy: 0.7414\n",
      "Epoch 15/15\n",
      "8/8 [==============================] - 12s 2s/step - loss: 0.4152 - accuracy: 0.9261 - val_loss: 0.5220 - val_accuracy: 0.7759\n"
     ]
    }
   ],
   "source": [
    "history_final = model.fit(train_bi, epochs = 15,batch_size = 16,validation_data=test_bi)"
   ]
  },
  {
   "cell_type": "code",
   "execution_count": 76,
   "id": "0c90cd99",
   "metadata": {},
   "outputs": [
    {
     "data": {
      "image/png": "[encoded data removed]",
      "text/plain": [
       "<Figure size 432x288 with 2 Axes>"
      ]
     },
     "metadata": {
      "needs_background": "light"
     },
     "output_type": "display_data"
    }
   ],
   "source": [
    "f, axarr = plt.subplots(nrows=1,ncols=2)\n",
    "plt.sca(axarr[0]); \n",
    "plt.plot(history_final.history['accuracy'])\n",
    "plt.plot(history_final.history['val_accuracy'])\n",
    "plt.title('model accuracy with model')\n",
    "plt.xlabel('epoch')\n",
    "plt.ylabel('accuracy')\n",
    "plt.legend\n",
    "plt.sca(axarr[1]); \n",
    "plt.plot(history_final.history['loss'])\n",
    "plt.plot(history_final.history['val_loss'])\n",
    "plt.title('model loss with model')\n",
    "plt.xlabel('epoch')\n",
    "plt.ylabel('loss')\n",
    "plt.show()"
   ]
  },
  {
   "cell_type": "code",
   "execution_count": null,
   "id": "64713177",
   "metadata": {},
   "outputs": [],
   "source": []
  }
 ],
 "metadata": {
  "kernelspec": {
   "display_name": "Python 3 (ipykernel)",
   "language": "python",
   "name": "python3"
  },
  "language_info": {
   "codemirror_mode": {
    "name": "ipython",
    "version": 3
   },
   "file_extension": ".py",
   "mimetype": "text/x-python",
   "name": "python",
   "nbconvert_exporter": "python",
   "pygments_lexer": "ipython3",
   "version": "3.8.8"
  }
 },
 "nbformat": 4,
 "nbformat_minor": 5
}
