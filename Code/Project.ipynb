{
 "cells": [
  {
   "cell_type": "markdown",
   "id": "04cd447e",
   "metadata": {},
   "source": [
    "# Sign Language Translator"
   ]
  },
  {
   "cell_type": "markdown",
   "id": "b6a7baa9",
   "metadata": {},
   "source": [
    "## Importamos las librerias"
   ]
  },
  {
   "cell_type": "code",
   "execution_count": 1,
   "id": "159df773",
   "metadata": {},
   "outputs": [],
   "source": [
    "import tensorflow as tf\n",
    "from tensorflow import keras\n",
    "from keras import datasets, layers, models\n",
    "import pandas as pd \n",
    "import numpy as np\n",
    "import matplotlib.pyplot as plt\n",
    "import matplotlib.image as mpimg\n",
    "import cv2\n",
    "import os"
   ]
  },
  {
   "cell_type": "markdown",
   "id": "8c73c6e2",
   "metadata": {},
   "source": [
    "## Importamos los datos"
   ]
  },
  {
   "cell_type": "code",
   "execution_count": 2,
   "id": "3d29d2b1",
   "metadata": {},
   "outputs": [],
   "source": [
    "def carga_tag_imagenes(directorio, uniq_labels):\n",
    "    \"\"\"\n",
    "    --------------------------------------------------------------------------------\n",
    "    Función:\n",
    "    Función que se encarga de cargar las imagenes y tagearlas, es decir, ponerle la etiqueta \n",
    "    correcta para su posterior confrontación con el resultado de la red.\n",
    "    --------------------------------------------------------------------------------\n",
    "    Inputs:\n",
    "        - Directorio: Ruta donde se encuentran las imagenes.\n",
    "        - Uniq_labels: Lista que contenga los posibles tags de las imágenes.\n",
    "    --------------------------------------------------------------------------------\n",
    "    Outputs:\n",
    "        - Images: Numpy array donde vendrán nuestras imagenes.\n",
    "        - Labels: Numpy array el cual contendrá los tags de las imagenes.\n",
    "    \"\"\"\n",
    "    images = []\n",
    "    labels = []\n",
    "    for idx, label in enumerate(uniq_labels):\n",
    "        for file in os.listdir(directorio + \"/\" + label):\n",
    "            filepath = directorio + \"/\" + label + \"/\" + file\n",
    "            image = cv2.imread(filepath)\n",
    "            images.append(image)\n",
    "            labels.append(idx)\n",
    "    images = np.array(images)\n",
    "    images_norm = images / 255\n",
    "    labels = np.array(labels)\n",
    "    return(images_norm, labels)"
   ]
  },
  {
   "cell_type": "code",
   "execution_count": 3,
   "id": "fc503f47",
   "metadata": {},
   "outputs": [],
   "source": [
    "directorio = \"../Data/\"\n",
    "train = directorio + \"Train/\"\n",
    "test = directorio + \"Test/\"\n",
    "unique_labels = os.listdir(train)\n",
    "unique_labels.remove('.DS_Store')"
   ]
  },
  {
   "cell_type": "code",
   "execution_count": null,
   "id": "db778cf4",
   "metadata": {},
   "outputs": [],
   "source": [
    "images_train, labels_train = carga_tag_imagenes(train,unique_labels)"
   ]
  },
  {
   "cell_type": "code",
   "execution_count": null,
   "id": "386cbbe3",
   "metadata": {},
   "outputs": [],
   "source": []
  },
  {
   "cell_type": "code",
   "execution_count": null,
   "id": "6dbeedcd",
   "metadata": {},
   "outputs": [],
   "source": []
  }
 ],
 "metadata": {
  "kernelspec": {
   "display_name": "Python 3 (ipykernel)",
   "language": "python",
   "name": "python3"
  },
  "language_info": {
   "codemirror_mode": {
    "name": "ipython",
    "version": 3
   },
   "file_extension": ".py",
   "mimetype": "text/x-python",
   "name": "python",
   "nbconvert_exporter": "python",
   "pygments_lexer": "ipython3",
   "version": "3.8.8"
  }
 },
 "nbformat": 4,
 "nbformat_minor": 5
}
